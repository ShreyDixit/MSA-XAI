{
 "cells": [
  {
   "cell_type": "code",
   "execution_count": 1,
   "metadata": {},
   "outputs": [
    {
     "name": "stderr",
     "output_type": "stream",
     "text": [
      "/home/shrey/miniconda3/envs/msa-xai/lib/python3.11/site-packages/tqdm/auto.py:21: TqdmWarning: IProgress not found. Please update jupyter and ipywidgets. See https://ipywidgets.readthedocs.io/en/stable/user_install.html\n",
      "  from .autonotebook import tqdm as notebook_tqdm\n"
     ]
    }
   ],
   "source": [
    "from transformers import (\n",
    "    AutoTokenizer,\n",
    "    BitsAndBytesConfig,\n",
    ")\n",
    "\n",
    "import torch\n",
    "\n",
    "import numpy as np\n",
    "import pandas as pd\n",
    "import matplotlib.pyplot as plt\n",
    "import seaborn as sns\n",
    "\n",
    "from collections import defaultdict\n",
    "from Levenshtein import ratio\n",
    "from msapy import msa\n",
    "import pickle as pkl\n",
    "import time\n",
    "import re\n",
    "from itertools import product\n",
    "\n",
    "from transformers.models.mixtral.modeling_mixtral import *\n",
    "from transformers.models.mixtral import *\n",
    "\n",
    "import warnings\n",
    "warnings.filterwarnings( \"ignore\" )"
   ]
  },
  {
   "cell_type": "code",
   "execution_count": 2,
   "metadata": {},
   "outputs": [],
   "source": [
    "# Initial Setup\n",
    "num_permutations = 1 # Set this to 1000 to perform the full analysis. This takes a while to run. For the demonstration purpose, we set it to 1.\n",
    "lesion_dictionary = defaultdict(list) # Initialize the lesion dictionary as empty meaning the network is intact\n",
    "with torch.no_grad():\n",
    "    torch.cuda.empty_cache()"
   ]
  },
  {
   "cell_type": "code",
   "execution_count": 3,
   "metadata": {},
   "outputs": [],
   "source": [
    "device_map = \"cuda:0\"\n",
    "model_path = \"mistralai/Mixtral-8x7B-Instruct-v0.1\"\n",
    "quantization_config = BitsAndBytesConfig(\n",
    "    load_in_4bit=True,\n",
    "    bnb_4bit_compute_dtype=torch.float16,\n",
    ")"
   ]
  },
  {
   "cell_type": "code",
   "execution_count": 4,
   "metadata": {},
   "outputs": [],
   "source": [
    "class LesionedMixtralSparseMoeBlock(MixtralSparseMoeBlock):\n",
    "    def __init__(self, config, layer_idx):\n",
    "        super().__init__(config)\n",
    "        self.layer_idx = layer_idx\n",
    "    \n",
    "    def forward(self, hidden_states: torch.Tensor) -> torch.Tensor:\n",
    "        ## Most of the code is copied from the original implementation\n",
    "        batch_size, sequence_length, hidden_dim = hidden_states.shape\n",
    "        hidden_states = hidden_states.view(-1, hidden_dim)\n",
    "        router_logits = self.gate(hidden_states)\n",
    "\n",
    "        routing_weights = F.softmax(router_logits, dim=1, dtype=torch.float)\n",
    "        routing_weights, selected_experts = torch.topk(routing_weights, self.top_k, dim=-1)\n",
    "        routing_weights /= routing_weights.sum(dim=-1, keepdim=True)\n",
    "        routing_weights = routing_weights.to(hidden_states.dtype)\n",
    "\n",
    "        final_hidden_states = torch.zeros(\n",
    "            (batch_size * sequence_length, hidden_dim), dtype=hidden_states.dtype, device=hidden_states.device\n",
    "        )\n",
    "\n",
    "        expert_mask = torch.nn.functional.one_hot(selected_experts, num_classes=self.num_experts).permute(2, 1, 0)\n",
    "\n",
    "        for expert_idx in range(self.num_experts):\n",
    "            # if the current expert is lesioned, skip it. This is the only change I made\n",
    "            if expert_idx in lesion_dictionary[self.layer_idx]:\n",
    "                continue \n",
    "            expert_layer = self.experts[expert_idx]\n",
    "            idx, top_x = torch.where(expert_mask[expert_idx])\n",
    "\n",
    "            if top_x.shape[0] == 0:\n",
    "                continue\n",
    "\n",
    "            top_x_list = top_x.tolist()\n",
    "            idx_list = idx.tolist()\n",
    "\n",
    "            current_state = hidden_states[None, top_x_list].reshape(-1, hidden_dim)\n",
    "            current_hidden_states = expert_layer(current_state) * routing_weights[top_x_list, idx_list, None]\n",
    "\n",
    "            final_hidden_states.index_add_(0, top_x, current_hidden_states.to(hidden_states.dtype))\n",
    "        final_hidden_states = final_hidden_states.reshape(batch_size, sequence_length, hidden_dim)\n",
    "        return final_hidden_states, router_logits\n",
    "\n",
    "class LesionedMixtralDecoderLayer(MixtralDecoderLayer):\n",
    "    def __init__(self, config: MixtralConfig, layer_idx: int):\n",
    "        super().__init__(config, layer_idx)\n",
    "        self.block_sparse_moe = LesionedMixtralSparseMoeBlock(config, layer_idx)\n",
    "\n",
    "class LesionedMixtralModel(MixtralModel):\n",
    "    def __init__(self, config: MixtralConfig):\n",
    "        super().__init__(config)\n",
    "        self.layers = nn.ModuleList(\n",
    "            [LesionedMixtralDecoderLayer(config, layer_idx) for layer_idx in range(config.num_hidden_layers)]\n",
    "        )\n",
    "        self.post_init()\n",
    "\n",
    "class LesionedMixtralForCausalLM(MixtralForCausalLM):\n",
    "    _tied_weights_keys = [\"lm_head.weight\"]\n",
    "\n",
    "    def __init__(self, config):\n",
    "        super().__init__(config)\n",
    "        self.model = LesionedMixtralModel(config)\n",
    "        # Initialize weights and apply final processing\n",
    "        self.post_init()"
   ]
  },
  {
   "cell_type": "code",
   "execution_count": 5,
   "metadata": {},
   "outputs": [
    {
     "name": "stderr",
     "output_type": "stream",
     "text": [
      "Loading checkpoint shards: 100%|██████████| 19/19 [01:49<00:00,  5.76s/it]\n"
     ]
    }
   ],
   "source": [
    "lesioned_model = LesionedMixtralForCausalLM.from_pretrained(\n",
    "        model_path,\n",
    "        device_map=device_map,\n",
    "        quantization_config=quantization_config,\n",
    ")"
   ]
  },
  {
   "cell_type": "code",
   "execution_count": 6,
   "metadata": {},
   "outputs": [],
   "source": [
    "tokenizer = AutoTokenizer.from_pretrained(model_path, trust_remote_code=True)"
   ]
  },
  {
   "cell_type": "code",
   "execution_count": 7,
   "metadata": {},
   "outputs": [],
   "source": [
    "def get_addition_question(rng: np.random.Generator, size=10):\n",
    "    num1_arr = rng.integers(10_000_000, size=size)\n",
    "    num2_arr = rng.integers(10_000_000, size=size)\n",
    "    answers = num1_arr + num2_arr\n",
    "    return num1_arr, num2_arr, answers\n",
    "\n",
    "def get_subtraction_question(rng: np.random.Generator, size=10):\n",
    "    num1_arr = rng.integers(10_000_000, size=size)\n",
    "    num2_arr = rng.integers(10_000_000, size=size)\n",
    "    answers = num1_arr - num2_arr\n",
    "    return num1_arr, num2_arr, answers\n",
    "\n",
    "def get_multiplication_question(rng: np.random.Generator, size=10):\n",
    "    num1_arr = rng.integers(10_000, size=size)\n",
    "    num2_arr = rng.integers(10_000, size=size)\n",
    "    answers = num1_arr * num2_arr\n",
    "    return num1_arr, num2_arr, answers"
   ]
  },
  {
   "cell_type": "code",
   "execution_count": 8,
   "metadata": {},
   "outputs": [],
   "source": [
    "rng = np.random.default_rng(2810)\n",
    "def get_messages(num1_arr, num2_arr, answers, operation):\n",
    "    messages = []\n",
    "    for num1, num2 in zip(num1_arr, num2_arr):\n",
    "        message = [\n",
    "            {\n",
    "                \"role\": \"user\",\n",
    "                \"content\": \"You are a calculator that gives answer in numbers only\"\n",
    "            },\n",
    "            {\n",
    "                \"role\": \"assistant\",\n",
    "                \"content\": \"Okay\"\n",
    "            },\n",
    "            {\n",
    "                \"role\": \"user\",\n",
    "                \"content\": f\"{num1} {operation} {num2}\"\n",
    "            },\n",
    "        ]\n",
    "        messages.append(message)\n",
    "\n",
    "    return messages, answers\n",
    "\n",
    "addition_messages, addition_answers = get_messages(*get_addition_question(rng), \"+\")\n",
    "subtraction_messages, subtraction_answers = get_messages(*get_subtraction_question(rng), \"-\")\n",
    "multiplication_messages, multiplication_answers = get_messages(*get_multiplication_question(rng), \"*\")"
   ]
  },
  {
   "cell_type": "code",
   "execution_count": 9,
   "metadata": {},
   "outputs": [],
   "source": [
    "all_messages = addition_messages + subtraction_messages + multiplication_messages\n",
    "all_answers = np.concatenate([addition_answers, subtraction_answers, multiplication_answers])\n",
    "\n",
    "all_messages = [tokenizer.apply_chat_template(message, tokenize=False) for message in all_messages]\n",
    "tokenizer.pad_token = tokenizer.eos_token\n",
    "inputs = tokenizer(all_messages, return_tensors=\"pt\", padding=True).to(device_map)"
   ]
  },
  {
   "cell_type": "code",
   "execution_count": 10,
   "metadata": {},
   "outputs": [],
   "source": [
    "def extract_answer(output: str):\n",
    "    number_pattern = re.compile(r'\\[\\/INST\\][^\\[]*?(-?\\d[\\d,\\.]*)')\n",
    "    number = number_pattern.findall(output)[-1].replace(',', '')\n",
    "    if '.' in number:\n",
    "        number = str(int(float(number)))\n",
    "    return number\n",
    "\n",
    "def get_accuracy(output: str, real_answer: int):\n",
    "    try:\n",
    "        return ratio(extract_answer(output), str(real_answer))\n",
    "    except:\n",
    "        return 0\n",
    "\n",
    "def get_operation_wise_accuracy(outputs: list[str], answers: np.ndarray) -> np.ndarray:\n",
    "    return np.array([get_accuracy(output, answer) for output, answer in zip(outputs, answers)]).reshape(3, -1).mean(axis=1) "
   ]
  },
  {
   "cell_type": "code",
   "execution_count": 11,
   "metadata": {},
   "outputs": [],
   "source": [
    "def complements_to_lesion_dict(coplements):\n",
    "    global lesion_dictionary\n",
    "    lesion_dictionary = defaultdict(list)\n",
    "    for c in coplements:\n",
    "        lesion_dictionary[c[0]].append(c[1])"
   ]
  },
  {
   "cell_type": "code",
   "execution_count": 12,
   "metadata": {},
   "outputs": [],
   "source": [
    "@torch.no_grad()\n",
    "def objective_function(coplements):\n",
    "    global lesion_dictionary\n",
    "    complements_to_lesion_dict(coplements)\n",
    "    outputs = lesioned_model.generate(**inputs, max_new_tokens=10, pad_token_id = tokenizer.eos_token_id)\n",
    "    outputs = tokenizer.batch_decode(outputs, skip_special_tokens=True)\n",
    "    return get_operation_wise_accuracy(outputs, all_answers)"
   ]
  },
  {
   "cell_type": "code",
   "execution_count": 13,
   "metadata": {},
   "outputs": [
    {
     "name": "stdout",
     "output_type": "stream",
     "text": [
      "Unlesioned accuracy of the model on addition task: 0.9625\n",
      "Unlesioned accuracy of the model on subtraction task: 0.9571428571428571\n",
      "Unlesioned accuracy of the model on multiplication task: 0.5159173669467787\n"
     ]
    }
   ],
   "source": [
    "# Unlesioned accuracy of the model on all tasks\n",
    "unlesioned_addition_accuracy, unlesioned_subtraction_accuracy, unlesioned_multiplication_accuracy = objective_function([])\n",
    "\n",
    "print(f\"Unlesioned accuracy of the model on addition task: {unlesioned_addition_accuracy}\")\n",
    "print(f\"Unlesioned accuracy of the model on subtraction task: {unlesioned_subtraction_accuracy}\")\n",
    "print(f\"Unlesioned accuracy of the model on multiplication task: {unlesioned_multiplication_accuracy}\")"
   ]
  },
  {
   "cell_type": "code",
   "execution_count": 14,
   "metadata": {},
   "outputs": [],
   "source": [
    "elements = list(product(list(range(32)), list(range(8))))"
   ]
  },
  {
   "cell_type": "code",
   "execution_count": null,
   "metadata": {},
   "outputs": [],
   "source": [
    "shapley_table = msa.interface(\n",
    "    n_permutations=num_permutations,\n",
    "    elements=elements,\n",
    "    objective_function=objective_function,\n",
    ")"
   ]
  },
  {
   "cell_type": "code",
   "execution_count": 15,
   "metadata": {},
   "outputs": [],
   "source": [
    "# Uncomment the following code to save your computed results\n",
    "# saving_dict = {\n",
    "#     \"shapley_table\": shapley_table,\n",
    "#     \"messages\": all_messages,\n",
    "#     \"answers\": all_answers,\n",
    "# }\n",
    "\n",
    "# with open(f\"shapley_analysis_mixtral_llm_{time.strftime('%Y%m%d-%H%M%S')}.pkl\", \"wb\") as f:\n",
    "#     pkl.dump(saving_dict, f)"
   ]
  },
  {
   "cell_type": "code",
   "execution_count": 16,
   "metadata": {},
   "outputs": [],
   "source": [
    "# We will be using already computed results to speed up the notebook\n",
    "with open(\"pickled_results/shapley_analysis_mixtral_llm_20240317-083013.pkl\", \"rb\") as f:\n",
    "    shapley_results = pkl.load(f)\n",
    "\n",
    "shapley_table = shapley_results[\"shapley_table\"]"
   ]
  },
  {
   "cell_type": "code",
   "execution_count": 17,
   "metadata": {},
   "outputs": [
    {
     "data": {
      "text/html": [
       "<div>\n",
       "<style scoped>\n",
       "    .dataframe tbody tr th:only-of-type {\n",
       "        vertical-align: middle;\n",
       "    }\n",
       "\n",
       "    .dataframe tbody tr th {\n",
       "        vertical-align: top;\n",
       "    }\n",
       "\n",
       "    .dataframe thead th {\n",
       "        text-align: right;\n",
       "    }\n",
       "</style>\n",
       "<table border=\"1\" class=\"dataframe\">\n",
       "  <thead>\n",
       "    <tr style=\"text-align: right;\">\n",
       "      <th></th>\n",
       "      <th>Contribution</th>\n",
       "      <th>Task</th>\n",
       "      <th>Layer</th>\n",
       "      <th>Expert</th>\n",
       "    </tr>\n",
       "  </thead>\n",
       "  <tbody>\n",
       "    <tr>\n",
       "      <th>0</th>\n",
       "      <td>0.000186</td>\n",
       "      <td>Addition</td>\n",
       "      <td>0</td>\n",
       "      <td>0</td>\n",
       "    </tr>\n",
       "    <tr>\n",
       "      <th>1</th>\n",
       "      <td>-0.001046</td>\n",
       "      <td>Subtraction</td>\n",
       "      <td>0</td>\n",
       "      <td>0</td>\n",
       "    </tr>\n",
       "    <tr>\n",
       "      <th>2</th>\n",
       "      <td>-0.001478</td>\n",
       "      <td>Multiplication</td>\n",
       "      <td>0</td>\n",
       "      <td>0</td>\n",
       "    </tr>\n",
       "    <tr>\n",
       "      <th>0</th>\n",
       "      <td>0.027317</td>\n",
       "      <td>Addition</td>\n",
       "      <td>0</td>\n",
       "      <td>1</td>\n",
       "    </tr>\n",
       "    <tr>\n",
       "      <th>1</th>\n",
       "      <td>0.028780</td>\n",
       "      <td>Subtraction</td>\n",
       "      <td>0</td>\n",
       "      <td>1</td>\n",
       "    </tr>\n",
       "  </tbody>\n",
       "</table>\n",
       "</div>"
      ],
      "text/plain": [
       "   Contribution            Task  Layer  Expert\n",
       "0      0.000186        Addition      0       0\n",
       "1     -0.001046     Subtraction      0       0\n",
       "2     -0.001478  Multiplication      0       0\n",
       "0      0.027317        Addition      0       1\n",
       "1      0.028780     Subtraction      0       1"
      ]
     },
     "execution_count": 17,
     "metadata": {},
     "output_type": "execute_result"
    }
   ],
   "source": [
    "shapley_table.columns = shapley_table.columns.astype(str)\n",
    "shapley_df_formatted = pd.DataFrame(shapley_table).melt(ignore_index=False, var_name=\"Layer_Expert\", value_name=\"Contribution\")\n",
    "task_mapping = {0: \"Addition\", 1: \"Subtraction\", 2: \"Multiplication\"}\n",
    "shapley_df_formatted['Task'] = shapley_df_formatted.index.map(task_mapping)\n",
    "shapley_df_formatted['Layer'], shapley_df_formatted['Expert'] = zip(*shapley_df_formatted['Layer_Expert'].apply(eval))\n",
    "shapley_df_formatted.drop(columns=[\"Layer_Expert\"], inplace=True)\n",
    "shapley_df_formatted.to_csv(\"shapley_analysis.csv\")\n",
    "shapley_df_formatted.head()"
   ]
  },
  {
   "cell_type": "code",
   "execution_count": 18,
   "metadata": {},
   "outputs": [
    {
     "data": {
      "text/plain": [
       "Text(0.5, 1.0, 'Layer and Task wise contribution')"
      ]
     },
     "execution_count": 18,
     "metadata": {},
     "output_type": "execute_result"
    },
    {
     "data": {
      "image/png": "[encoded data removed]",
      "text/plain": [
       "<Figure size 1500x600 with 1 Axes>"
      ]
     },
     "metadata": {},
     "output_type": "display_data"
    }
   ],
   "source": [
    "layer_and_task_wise_contributions = shapley_df_formatted.groupby([\"Layer\", \"Task\"])[\"Contribution\"].mean().reset_index()\n",
    "\n",
    "plt.figure(figsize=(15, 6))\n",
    "sns.set_theme(style=\"whitegrid\")\n",
    "sns.barplot(data=layer_and_task_wise_contributions, x=\"Layer\", y=\"Contribution\", hue=\"Task\")\n",
    "plt.title(\"Layer and Task wise contribution\")"
   ]
  },
  {
   "cell_type": "code",
   "execution_count": 19,
   "metadata": {},
   "outputs": [
    {
     "data": {
      "text/plain": [
       "Text(0.5, 1.0, 'Expert and Task wise contribution of Layer 1')"
      ]
     },
     "execution_count": 19,
     "metadata": {},
     "output_type": "execute_result"
    },
    {
     "data": {
      "image/png": "[encoded data removed]",
      "text/plain": [
       "<Figure size 1500x600 with 1 Axes>"
      ]
     },
     "metadata": {},
     "output_type": "display_data"
    }
   ],
   "source": [
    "# Plot Expert Contribution of Layer 1\n",
    "expert_and_task_wise_contributions = shapley_df_formatted[shapley_df_formatted[\"Layer\"] == 1].groupby([\"Expert\", \"Task\"])[\"Contribution\"].mean().reset_index()\n",
    "\n",
    "plt.figure(figsize=(15, 6))\n",
    "sns.set_theme(style=\"whitegrid\")\n",
    "sns.barplot(data=expert_and_task_wise_contributions, x=\"Expert\", y=\"Contribution\", hue=\"Task\")\n",
    "plt.title(\"Expert and Task wise contribution of Layer 1\")"
   ]
  },
  {
   "cell_type": "code",
   "execution_count": 20,
   "metadata": {},
   "outputs": [
    {
     "data": {
      "text/plain": [
       "Text(0.5, 1.0, 'Expert and Task wise contribution of Layer 1')"
      ]
     },
     "execution_count": 20,
     "metadata": {},
     "output_type": "execute_result"
    },
    {
     "data": {
      "image/png": "[encoded data removed]",
      "text/plain": [
       "<Figure size 1500x600 with 1 Axes>"
      ]
     },
     "metadata": {},
     "output_type": "display_data"
    }
   ],
   "source": [
    "# Plot Expert Contribution of Layer 1\n",
    "expert_and_task_wise_contributions = shapley_df_formatted[shapley_df_formatted[\"Layer\"] == 29].groupby([\"Expert\", \"Task\"])[\"Contribution\"].mean().reset_index()\n",
    "\n",
    "plt.figure(figsize=(15, 6))\n",
    "sns.set_theme(style=\"whitegrid\")\n",
    "sns.barplot(data=expert_and_task_wise_contributions, x=\"Expert\", y=\"Contribution\", hue=\"Task\")\n",
    "plt.title(\"Expert and Task wise contribution of Layer 1\")"
   ]
  },
  {
   "cell_type": "code",
   "execution_count": 21,
   "metadata": {},
   "outputs": [
    {
     "name": "stdout",
     "output_type": "stream",
     "text": [
      "Unlesioned accuracy of the model on addition task: 0.9358809523809524\n",
      "Unlesioned accuracy of the model on subtraction task: 0.9307142857142858\n",
      "Unlesioned accuracy of the model on multiplication task: 0.557999066293184\n"
     ]
    }
   ],
   "source": [
    "# Creating a test set\n",
    "rng = np.random.default_rng(1207)\n",
    "\n",
    "addition_messages, addition_answers = get_messages(*get_addition_question(rng, size=50), \"+\")\n",
    "subtraction_messages, subtraction_answers = get_messages(*get_subtraction_question(rng, size=50), \"-\")\n",
    "multiplication_messages, multiplication_answers = get_messages(*get_multiplication_question(rng, size=50), \"*\")\n",
    "\n",
    "all_messages = addition_messages + subtraction_messages + multiplication_messages\n",
    "all_answers = np.concatenate([addition_answers, subtraction_answers, multiplication_answers])\n",
    "all_messages = [tokenizer.apply_chat_template(message, tokenize=False) for message in all_messages]\n",
    "tokenizer.pad_token = tokenizer.eos_token\n",
    "inputs = tokenizer(all_messages, return_tensors=\"pt\", padding=True).to(device_map)\n",
    "\n",
    "unlesioned_addition_accuracy, unlesioned_subtraction_accuracy, unlesioned_multiplication_accuracy = objective_function([])\n",
    "\n",
    "print(f\"Unlesioned accuracy of the model on addition task: {unlesioned_addition_accuracy}\")\n",
    "print(f\"Unlesioned accuracy of the model on subtraction task: {unlesioned_subtraction_accuracy}\")\n",
    "print(f\"Unlesioned accuracy of the model on multiplication task: {unlesioned_multiplication_accuracy}\")"
   ]
  },
  {
   "cell_type": "code",
   "execution_count": 22,
   "metadata": {},
   "outputs": [],
   "source": [
    "def print_lesioning_accuracy_results(complements):\n",
    "    lesioned_addition_accuracy, lesioned_subtraction_accuracy, lesioned_multiplication_accuracy = objective_function(complements)\n",
    "\n",
    "    print(f\"Number of experts lesioned: {len(complements)}\")\n",
    "    print(f\"addition accuracy {'increased' if lesioned_addition_accuracy > unlesioned_addition_accuracy else 'decreased'} by {abs(lesioned_addition_accuracy - unlesioned_addition_accuracy):.4f} after leasioning\")\n",
    "    print(f\"subtraction accuracy {'increased' if lesioned_subtraction_accuracy > unlesioned_subtraction_accuracy else 'decreased'} by {abs(lesioned_subtraction_accuracy - unlesioned_subtraction_accuracy):.4f} after leasioning\")\n",
    "    print(f\"multiplication accuracy {'increased' if lesioned_multiplication_accuracy > unlesioned_multiplication_accuracy else 'decreased'} by {abs(lesioned_multiplication_accuracy - unlesioned_multiplication_accuracy):.4f} after leasioning\")"
   ]
  },
  {
   "cell_type": "code",
   "execution_count": 23,
   "metadata": {},
   "outputs": [
    {
     "name": "stdout",
     "output_type": "stream",
     "text": [
      "Number of experts lesioned: 1\n",
      "addition accuracy decreased by 0.1171 after leasioning\n",
      "subtraction accuracy decreased by 0.0742 after leasioning\n",
      "multiplication accuracy decreased by 0.0238 after leasioning\n"
     ]
    }
   ],
   "source": [
    "# Since expert 3 of layer 1 is highly contributing to the all tasks, lets see the affect on the lesioning\n",
    "complements = [(1, 3)]\n",
    "print_lesioning_accuracy_results(complements)"
   ]
  },
  {
   "cell_type": "code",
   "execution_count": 24,
   "metadata": {},
   "outputs": [
    {
     "data": {
      "text/html": [
       "<div>\n",
       "<style scoped>\n",
       "    .dataframe tbody tr th:only-of-type {\n",
       "        vertical-align: middle;\n",
       "    }\n",
       "\n",
       "    .dataframe tbody tr th {\n",
       "        vertical-align: top;\n",
       "    }\n",
       "\n",
       "    .dataframe thead th {\n",
       "        text-align: right;\n",
       "    }\n",
       "</style>\n",
       "<table border=\"1\" class=\"dataframe\">\n",
       "  <thead>\n",
       "    <tr style=\"text-align: right;\">\n",
       "      <th></th>\n",
       "      <th>Layer</th>\n",
       "      <th>Expert</th>\n",
       "      <th>Contribution</th>\n",
       "    </tr>\n",
       "  </thead>\n",
       "  <tbody>\n",
       "    <tr>\n",
       "      <th>11</th>\n",
       "      <td>1</td>\n",
       "      <td>3</td>\n",
       "      <td>0.161232</td>\n",
       "    </tr>\n",
       "    <tr>\n",
       "      <th>145</th>\n",
       "      <td>18</td>\n",
       "      <td>1</td>\n",
       "      <td>0.033459</td>\n",
       "    </tr>\n",
       "    <tr>\n",
       "      <th>122</th>\n",
       "      <td>15</td>\n",
       "      <td>2</td>\n",
       "      <td>0.023884</td>\n",
       "    </tr>\n",
       "    <tr>\n",
       "      <th>166</th>\n",
       "      <td>20</td>\n",
       "      <td>6</td>\n",
       "      <td>0.023560</td>\n",
       "    </tr>\n",
       "    <tr>\n",
       "      <th>131</th>\n",
       "      <td>16</td>\n",
       "      <td>3</td>\n",
       "      <td>0.022821</td>\n",
       "    </tr>\n",
       "  </tbody>\n",
       "</table>\n",
       "</div>"
      ],
      "text/plain": [
       "     Layer  Expert  Contribution\n",
       "11       1       3      0.161232\n",
       "145     18       1      0.033459\n",
       "122     15       2      0.023884\n",
       "166     20       6      0.023560\n",
       "131     16       3      0.022821"
      ]
     },
     "execution_count": 24,
     "metadata": {},
     "output_type": "execute_result"
    }
   ],
   "source": [
    "# Now lets see the difference in lesioning for the top 5 highest contributing experts with positive contributions for all tasks\n",
    "mask_all_positive_contributors = shapley_df_formatted.groupby([\"Layer\", \"Expert\"])[\"Contribution\"].min().reset_index()[\"Contribution\"] > 0\n",
    "all_positive_contributors = shapley_df_formatted.groupby([\"Layer\", \"Expert\"])[\"Contribution\"].mean().reset_index()[mask_all_positive_contributors].sort_values(by=\"Contribution\", ascending=False)\n",
    "all_positive_contributors.head()"
   ]
  },
  {
   "cell_type": "code",
   "execution_count": 25,
   "metadata": {},
   "outputs": [
    {
     "name": "stdout",
     "output_type": "stream",
     "text": [
      "Number of experts lesioned: 5\n",
      "addition accuracy decreased by 0.4564 after leasioning\n",
      "subtraction accuracy decreased by 0.4610 after leasioning\n",
      "multiplication accuracy decreased by 0.2437 after leasioning\n"
     ]
    }
   ],
   "source": [
    "layer_expert_tuple_positive_contributors = list(zip(all_positive_contributors[\"Layer\"], all_positive_contributors[\"Expert\"]))\n",
    "print_lesioning_accuracy_results(layer_expert_tuple_positive_contributors[:5])"
   ]
  },
  {
   "cell_type": "code",
   "execution_count": 26,
   "metadata": {},
   "outputs": [
    {
     "data": {
      "text/html": [
       "<div>\n",
       "<style scoped>\n",
       "    .dataframe tbody tr th:only-of-type {\n",
       "        vertical-align: middle;\n",
       "    }\n",
       "\n",
       "    .dataframe tbody tr th {\n",
       "        vertical-align: top;\n",
       "    }\n",
       "\n",
       "    .dataframe thead th {\n",
       "        text-align: right;\n",
       "    }\n",
       "</style>\n",
       "<table border=\"1\" class=\"dataframe\">\n",
       "  <thead>\n",
       "    <tr style=\"text-align: right;\">\n",
       "      <th></th>\n",
       "      <th>Layer</th>\n",
       "      <th>Expert</th>\n",
       "      <th>Contribution</th>\n",
       "    </tr>\n",
       "  </thead>\n",
       "  <tbody>\n",
       "    <tr>\n",
       "      <th>237</th>\n",
       "      <td>29</td>\n",
       "      <td>5</td>\n",
       "      <td>-0.008866</td>\n",
       "    </tr>\n",
       "    <tr>\n",
       "      <th>5</th>\n",
       "      <td>0</td>\n",
       "      <td>5</td>\n",
       "      <td>-0.008293</td>\n",
       "    </tr>\n",
       "    <tr>\n",
       "      <th>15</th>\n",
       "      <td>1</td>\n",
       "      <td>7</td>\n",
       "      <td>-0.006141</td>\n",
       "    </tr>\n",
       "    <tr>\n",
       "      <th>240</th>\n",
       "      <td>30</td>\n",
       "      <td>0</td>\n",
       "      <td>-0.004205</td>\n",
       "    </tr>\n",
       "    <tr>\n",
       "      <th>54</th>\n",
       "      <td>6</td>\n",
       "      <td>6</td>\n",
       "      <td>-0.003897</td>\n",
       "    </tr>\n",
       "  </tbody>\n",
       "</table>\n",
       "</div>"
      ],
      "text/plain": [
       "     Layer  Expert  Contribution\n",
       "237     29       5     -0.008866\n",
       "5        0       5     -0.008293\n",
       "15       1       7     -0.006141\n",
       "240     30       0     -0.004205\n",
       "54       6       6     -0.003897"
      ]
     },
     "execution_count": 26,
     "metadata": {},
     "output_type": "execute_result"
    }
   ],
   "source": [
    "# Now lets see the difference in lesioning for the top 50 lowest contributing experts with negative contributions for all tasks\n",
    "mask_all_negative_contributors = shapley_df_formatted.groupby([\"Layer\", \"Expert\"])[\"Contribution\"].max().reset_index()[\"Contribution\"] < 0\n",
    "all_negative_contributors = shapley_df_formatted.groupby([\"Layer\", \"Expert\"])[\"Contribution\"].mean().reset_index()[mask_all_negative_contributors].sort_values(by=\"Contribution\", ascending=True)\n",
    "all_negative_contributors.head()"
   ]
  },
  {
   "cell_type": "code",
   "execution_count": 27,
   "metadata": {},
   "outputs": [
    {
     "name": "stdout",
     "output_type": "stream",
     "text": [
      "Number of experts lesioned: 19\n",
      "addition accuracy increased by 0.0105 after leasioning\n",
      "subtraction accuracy decreased by 0.0089 after leasioning\n",
      "multiplication accuracy increased by 0.0172 after leasioning\n"
     ]
    }
   ],
   "source": [
    "layer_expert_tuple_negative_contributors = list(zip(all_negative_contributors[\"Layer\"], all_negative_contributors[\"Expert\"]))\n",
    "print_lesioning_accuracy_results(layer_expert_tuple_negative_contributors)"
   ]
  },
  {
   "cell_type": "code",
   "execution_count": 28,
   "metadata": {},
   "outputs": [
    {
     "name": "stdout",
     "output_type": "stream",
     "text": [
      "Number of experts lesioned: 25\n",
      "addition accuracy decreased by 0.0041 after leasioning\n",
      "subtraction accuracy decreased by 0.0115 after leasioning\n",
      "multiplication accuracy increased by 0.0324 after leasioning\n"
     ]
    }
   ],
   "source": [
    "# Focusing only on the multiplication task, lets try to increase it accuracy by removing negatively contributing experts\n",
    "task = \"Multiplication\"\n",
    "negative_contributors_multiplication = shapley_df_formatted[(shapley_df_formatted[\"Task\"] == task) & (shapley_df_formatted[\"Contribution\"] < 0)].sort_values(by=\"Contribution\", ascending=True)\n",
    "layer_expert_tuple_negative_contributors_multiplication = list(zip(negative_contributors_multiplication[\"Layer\"], negative_contributors_multiplication[\"Expert\"]))\n",
    "print_lesioning_accuracy_results(layer_expert_tuple_negative_contributors_multiplication[:25])  "
   ]
  },
  {
   "cell_type": "code",
   "execution_count": 29,
   "metadata": {},
   "outputs": [
    {
     "data": {
      "text/plain": [
       "0.46428571428571425"
      ]
     },
     "execution_count": 29,
     "metadata": {},
     "output_type": "execute_result"
    }
   ],
   "source": [
    "(5.6 - 3) / 5.6"
   ]
  },
  {
   "cell_type": "code",
   "execution_count": 30,
   "metadata": {},
   "outputs": [
    {
     "name": "stdout",
     "output_type": "stream",
     "text": [
      "Number of experts lesioned: 61\n",
      "addition accuracy increased by 0.0105 after leasioning\n",
      "subtraction accuracy decreased by 0.0370 after leasioning\n",
      "multiplication accuracy decreased by 0.0026 after leasioning\n"
     ]
    }
   ],
   "source": [
    "task = \"Addition\"\n",
    "negative_contributors_addition = shapley_df_formatted[(shapley_df_formatted[\"Task\"] == task) & (shapley_df_formatted[\"Contribution\"] < 0)].sort_values(by=\"Contribution\", ascending=True)\n",
    "layer_expert_tuple_negative_contributors_addition = list(zip(negative_contributors_addition[\"Layer\"], negative_contributors_addition[\"Expert\"]))\n",
    "print_lesioning_accuracy_results(layer_expert_tuple_negative_contributors_addition)"
   ]
  },
  {
   "cell_type": "code",
   "execution_count": 31,
   "metadata": {},
   "outputs": [
    {
     "name": "stdout",
     "output_type": "stream",
     "text": [
      "Number of experts lesioned: 5\n",
      "addition accuracy increased by 0.0092 after leasioning\n",
      "subtraction accuracy increased by 0.0051 after leasioning\n",
      "multiplication accuracy decreased by 0.0053 after leasioning\n"
     ]
    }
   ],
   "source": [
    "task = \"Subtraction\"\n",
    "negative_contributors_subtraction = shapley_df_formatted[(shapley_df_formatted[\"Task\"] == task) & (shapley_df_formatted[\"Contribution\"] < 0)].sort_values(by=\"Contribution\", ascending=True)\n",
    "layer_expert_tuple_negative_contributors_subtraction = list(zip(negative_contributors_subtraction[\"Layer\"], negative_contributors_subtraction[\"Expert\"]))\n",
    "print_lesioning_accuracy_results(layer_expert_tuple_negative_contributors_subtraction[:5])"
   ]
  },
  {
   "cell_type": "code",
   "execution_count": 32,
   "metadata": {},
   "outputs": [
    {
     "name": "stderr",
     "output_type": "stream",
     "text": [
      "Asking to pad to max_length but no maximum length is provided and the model has no predefined maximum length. Default to no padding.\n"
     ]
    }
   ],
   "source": [
    "countries_population_task_message = [\n",
    "    {\n",
    "        \"role\": \"user\",\n",
    "        \"content\": \"Tell me the top 10 most populated countries as a list. Be Concise\"\n",
    "    }\n",
    "]\n",
    "countries_population_task_message = tokenizer.apply_chat_template(countries_population_task_message, return_tensors=\"pt\", padding=True)"
   ]
  },
  {
   "cell_type": "code",
   "execution_count": 33,
   "metadata": {},
   "outputs": [
    {
     "name": "stdout",
     "output_type": "stream",
     "text": [
      "[INST] Tell me the top 10 most populated countries as a list. Be Concise [/INST] Sure, here are the top 10 most populated countries in the world as of 2021:\n",
      "\n",
      "1. China\n",
      "2. India\n",
      "3. United States\n",
      "4. Indonesia\n",
      "5. Pakistan\n",
      "6. Brazil\n"
     ]
    }
   ],
   "source": [
    "complements_to_lesion_dict(layer_expert_tuple_negative_contributors)\n",
    "lesioned_output_poplation_task = lesioned_model.generate(countries_population_task_message, max_new_tokens=50, pad_token_id = tokenizer.eos_token_id)\n",
    "lesioned_output_poplation_task = tokenizer.batch_decode(lesioned_output_poplation_task, skip_special_tokens=True)\n",
    "print(lesioned_output_poplation_task[0])"
   ]
  },
  {
   "cell_type": "code",
   "execution_count": 34,
   "metadata": {},
   "outputs": [
    {
     "name": "stdout",
     "output_type": "stream",
     "text": [
      "[INST] Tell me the top 10 most populated countries as a list. Be Concise [/INST] Sure, here is a list of the 10 most populated countries in the world as of 2021, ranked in descending order:\n",
      "\n",
      "1. China\n",
      "2. India\n",
      "3. United States\n",
      "4. Indonesia\n"
     ]
    }
   ],
   "source": [
    "# Now Unlesioned\n",
    "complements_to_lesion_dict([])\n",
    "unlesioned_output_poplation_task = lesioned_model.generate(countries_population_task_message, max_new_tokens=50, pad_token_id = tokenizer.eos_token_id)\n",
    "unlesioned_output_poplation_task = tokenizer.batch_decode(unlesioned_output_poplation_task, skip_special_tokens=True)\n",
    "print(unlesioned_output_poplation_task[0])"
   ]
  },
  {
   "cell_type": "code",
   "execution_count": 35,
   "metadata": {},
   "outputs": [],
   "source": [
    "# 3x3 Matrix of all Tasks explaining what happens when we lesion top and bottom n experts"
   ]
  }
 ],
 "metadata": {
  "kernelspec": {
   "display_name": "mixtral-msa",
   "language": "python",
   "name": "python3"
  },
  "language_info": {
   "codemirror_mode": {
    "name": "ipython",
    "version": 3
   },
   "file_extension": ".py",
   "mimetype": "text/x-python",
   "name": "python",
   "nbconvert_exporter": "python",
   "pygments_lexer": "ipython3",
   "version": "3.11.8"
  }
 },
 "nbformat": 4,
 "nbformat_minor": 2
}
